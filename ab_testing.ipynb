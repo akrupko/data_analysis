{
 "cells": [
  {
   "cell_type": "markdown",
   "metadata": {},
   "source": [
    "## А/В-тестирование\n",
    "\n",
    "В ходе тестирования гипотезы целевой группе была предложена новая механика оплаты услуг на сайте, <br>\n",
    "у контрольной группы оставалась базовая механика. <br>\n",
    "Проанализируем итоги эксперимента и определим, стоит ли запускать новую механику оплаты на всех пользователей."
   ]
  },
  {
   "cell_type": "code",
   "execution_count": 1,
   "metadata": {},
   "outputs": [],
   "source": [
    "# импортируем необходимые библиотеки\n",
    "import pandas as pd\n",
    "import seaborn as sns\n",
    "import matplotlib.pyplot as plt\n",
    "%matplotlib inline\n",
    "from scipy import stats\n",
    "import statsmodels as sm\n",
    "import requests\n",
    "from urllib.parse import urlencode"
   ]
  },
  {
   "cell_type": "markdown",
   "metadata": {},
   "source": [
    "1.2 Импортируем файлы с данными"
   ]
  },
  {
   "cell_type": "code",
   "execution_count": 2,
   "metadata": {},
   "outputs": [],
   "source": [
    "base_url = 'https://cloud-api.yandex.net/v1/disk/public/resources/download?' \n",
    "\n",
    "# файл с информацией о принадлежности пользователя к контрольной или экспериментальной группе \n",
    "# (А – контроль, B – целевая группа)\n",
    "public_key_groups = 'https://disk.yandex.ru/d/UhyYx41rTt3clQ'\n",
    "final_url_groups = base_url + urlencode(dict(public_key=public_key_groups)) \n",
    "groups = pd.read_csv(requests.get(final_url_groups).json()['href'], sep=';')\n",
    "\n",
    "# дополнительный файл с пользователями, который прислали спустя 2 дня после передачи данных\n",
    "public_key_group_add = 'https://disk.yandex.ru/d/5Kxrz02m3IBUwQ'\n",
    "final_url_group_add = base_url + urlencode(dict(public_key=public_key_group_add)) \n",
    "group_add = pd.read_csv(requests.get(final_url_group_add).json()['href'])\n",
    "\n",
    "# файл с информацией о пользователях, которые зашли на платформу в дни проведения эксперимента. \n",
    "public_key_active_studs = 'https://disk.yandex.ru/d/Tbs44Bm6H_FwFQ'\n",
    "final_url_active_studs = base_url + urlencode(dict(public_key=public_key_active_studs)) \n",
    "active_studs = pd.read_csv(requests.get(final_url_active_studs).json()['href'], sep=';')\n",
    "\n",
    "# файл с информацией об оплатах пользователей в дни проведения эксперимента.\n",
    "public_key_checks = 'https://disk.yandex.ru/d/pH1q-VqcxXjsVA'\n",
    "final_url_checks = base_url + urlencode(dict(public_key=public_key_checks)) \n",
    "checks = pd.read_csv(requests.get(final_url_checks).json()['href'], sep=';')"
   ]
  },
  {
   "cell_type": "markdown",
   "metadata": {},
   "source": [
    "### Для анализа я сначала буду использовать следующую метрику: конверсию из посетителя в покупателя\n",
    "Я выбрала эту метрику, поскольку до страницы оплаты добираются пользователи, которые уже выбрали товар и хотят его оплатить.\n",
    "Соответственно у них есть выбор - оплатить выбранный товар или нет.\n",
    "По этой логике, если новая механика оплаты более удобная и подходит большему количеству посетителей, то\n",
    "конверсия в покупку должна вырасти. Если нет, то остаться на прежнем уровне или даже снизиться."
   ]
  },
  {
   "cell_type": "markdown",
   "metadata": {},
   "source": [
    "## Предварительный анализ данных"
   ]
  },
  {
   "cell_type": "code",
   "execution_count": 77,
   "metadata": {},
   "outputs": [
    {
     "data": {
      "text/plain": [
       "74484"
      ]
     },
     "execution_count": 77,
     "metadata": {},
     "output_type": "execute_result"
    }
   ],
   "source": [
    "# узнаем количество строк в исходных таблицах\n",
    "groups.shape[0]"
   ]
  },
  {
   "cell_type": "code",
   "execution_count": 8,
   "metadata": {},
   "outputs": [
    {
     "data": {
      "text/plain": [
       "92"
      ]
     },
     "execution_count": 8,
     "metadata": {},
     "output_type": "execute_result"
    }
   ],
   "source": [
    "group_add.shape[0]"
   ]
  },
  {
   "cell_type": "code",
   "execution_count": 9,
   "metadata": {},
   "outputs": [
    {
     "data": {
      "text/plain": [
       "8341"
      ]
     },
     "execution_count": 9,
     "metadata": {},
     "output_type": "execute_result"
    }
   ],
   "source": [
    "active_studs.shape[0]"
   ]
  },
  {
   "cell_type": "code",
   "execution_count": 10,
   "metadata": {},
   "outputs": [
    {
     "data": {
      "text/plain": [
       "541"
      ]
     },
     "execution_count": 10,
     "metadata": {},
     "output_type": "execute_result"
    }
   ],
   "source": [
    "checks.shape[0]"
   ]
  },
  {
   "cell_type": "code",
   "execution_count": 11,
   "metadata": {},
   "outputs": [
    {
     "data": {
      "text/plain": [
       "id     0\n",
       "grp    0\n",
       "dtype: int64"
      ]
     },
     "execution_count": 11,
     "metadata": {},
     "output_type": "execute_result"
    }
   ],
   "source": [
    "# проверим данные на наличие пропусков\n",
    "groups.isnull().sum()"
   ]
  },
  {
   "cell_type": "code",
   "execution_count": 12,
   "metadata": {
    "scrolled": true
   },
   "outputs": [
    {
     "data": {
      "text/plain": [
       "id     0\n",
       "grp    0\n",
       "dtype: int64"
      ]
     },
     "execution_count": 12,
     "metadata": {},
     "output_type": "execute_result"
    }
   ],
   "source": [
    "group_add.isnull().sum()"
   ]
  },
  {
   "cell_type": "code",
   "execution_count": 13,
   "metadata": {},
   "outputs": [
    {
     "data": {
      "text/plain": [
       "student_id    0\n",
       "dtype: int64"
      ]
     },
     "execution_count": 13,
     "metadata": {},
     "output_type": "execute_result"
    }
   ],
   "source": [
    "active_studs.isnull().sum()"
   ]
  },
  {
   "cell_type": "code",
   "execution_count": 14,
   "metadata": {},
   "outputs": [
    {
     "data": {
      "text/plain": [
       "student_id    0\n",
       "rev           0\n",
       "dtype: int64"
      ]
     },
     "execution_count": 14,
     "metadata": {},
     "output_type": "execute_result"
    }
   ],
   "source": [
    "checks.isnull().sum()"
   ]
  },
  {
   "cell_type": "code",
   "execution_count": 15,
   "metadata": {
    "scrolled": true
   },
   "outputs": [
    {
     "data": {
      "text/html": [
       "<div>\n",
       "<style scoped>\n",
       "    .dataframe tbody tr th:only-of-type {\n",
       "        vertical-align: middle;\n",
       "    }\n",
       "\n",
       "    .dataframe tbody tr th {\n",
       "        vertical-align: top;\n",
       "    }\n",
       "\n",
       "    .dataframe thead th {\n",
       "        text-align: right;\n",
       "    }\n",
       "</style>\n",
       "<table border=\"1\" class=\"dataframe\">\n",
       "  <thead>\n",
       "    <tr style=\"text-align: right;\">\n",
       "      <th></th>\n",
       "      <th>id</th>\n",
       "      <th>grp</th>\n",
       "    </tr>\n",
       "  </thead>\n",
       "  <tbody>\n",
       "    <tr>\n",
       "      <th>0</th>\n",
       "      <td>1489</td>\n",
       "      <td>B</td>\n",
       "    </tr>\n",
       "    <tr>\n",
       "      <th>1</th>\n",
       "      <td>1627</td>\n",
       "      <td>A</td>\n",
       "    </tr>\n",
       "    <tr>\n",
       "      <th>2</th>\n",
       "      <td>1768</td>\n",
       "      <td>B</td>\n",
       "    </tr>\n",
       "    <tr>\n",
       "      <th>3</th>\n",
       "      <td>1783</td>\n",
       "      <td>B</td>\n",
       "    </tr>\n",
       "    <tr>\n",
       "      <th>4</th>\n",
       "      <td>1794</td>\n",
       "      <td>A</td>\n",
       "    </tr>\n",
       "    <tr>\n",
       "      <th>...</th>\n",
       "      <td>...</td>\n",
       "      <td>...</td>\n",
       "    </tr>\n",
       "    <tr>\n",
       "      <th>74571</th>\n",
       "      <td>200247820</td>\n",
       "      <td>B</td>\n",
       "    </tr>\n",
       "    <tr>\n",
       "      <th>74572</th>\n",
       "      <td>201032527</td>\n",
       "      <td>B</td>\n",
       "    </tr>\n",
       "    <tr>\n",
       "      <th>74573</th>\n",
       "      <td>201067612</td>\n",
       "      <td>B</td>\n",
       "    </tr>\n",
       "    <tr>\n",
       "      <th>74574</th>\n",
       "      <td>201067653</td>\n",
       "      <td>B</td>\n",
       "    </tr>\n",
       "    <tr>\n",
       "      <th>74575</th>\n",
       "      <td>201067659</td>\n",
       "      <td>B</td>\n",
       "    </tr>\n",
       "  </tbody>\n",
       "</table>\n",
       "<p>74576 rows × 2 columns</p>\n",
       "</div>"
      ],
      "text/plain": [
       "              id grp\n",
       "0           1489   B\n",
       "1           1627   A\n",
       "2           1768   B\n",
       "3           1783   B\n",
       "4           1794   A\n",
       "...          ...  ..\n",
       "74571  200247820   B\n",
       "74572  201032527   B\n",
       "74573  201067612   B\n",
       "74574  201067653   B\n",
       "74575  201067659   B\n",
       "\n",
       "[74576 rows x 2 columns]"
      ]
     },
     "execution_count": 15,
     "metadata": {},
     "output_type": "execute_result"
    }
   ],
   "source": [
    "# объединим два датафрэйма (полученный первым и два дня спустя. Будем исходить из предположения,\n",
    "# что хоть они и были присланы в разные дни, но сбор данных для обоих файлов осуществлялся одновременно, в один период)\n",
    "all_users = pd.concat([groups, group_add], ignore_index=True)\n",
    "all_users"
   ]
  },
  {
   "cell_type": "code",
   "execution_count": 16,
   "metadata": {},
   "outputs": [
    {
     "data": {
      "text/html": [
       "<div>\n",
       "<style scoped>\n",
       "    .dataframe tbody tr th:only-of-type {\n",
       "        vertical-align: middle;\n",
       "    }\n",
       "\n",
       "    .dataframe tbody tr th {\n",
       "        vertical-align: top;\n",
       "    }\n",
       "\n",
       "    .dataframe thead th {\n",
       "        text-align: right;\n",
       "    }\n",
       "</style>\n",
       "<table border=\"1\" class=\"dataframe\">\n",
       "  <thead>\n",
       "    <tr style=\"text-align: right;\">\n",
       "      <th></th>\n",
       "      <th>student_id</th>\n",
       "      <th>grp</th>\n",
       "    </tr>\n",
       "  </thead>\n",
       "  <tbody>\n",
       "    <tr>\n",
       "      <th>0</th>\n",
       "      <td>1489</td>\n",
       "      <td>B</td>\n",
       "    </tr>\n",
       "    <tr>\n",
       "      <th>1</th>\n",
       "      <td>1627</td>\n",
       "      <td>A</td>\n",
       "    </tr>\n",
       "    <tr>\n",
       "      <th>2</th>\n",
       "      <td>1768</td>\n",
       "      <td>B</td>\n",
       "    </tr>\n",
       "    <tr>\n",
       "      <th>3</th>\n",
       "      <td>1783</td>\n",
       "      <td>B</td>\n",
       "    </tr>\n",
       "    <tr>\n",
       "      <th>4</th>\n",
       "      <td>1794</td>\n",
       "      <td>A</td>\n",
       "    </tr>\n",
       "  </tbody>\n",
       "</table>\n",
       "</div>"
      ],
      "text/plain": [
       "   student_id grp\n",
       "0        1489   B\n",
       "1        1627   A\n",
       "2        1768   B\n",
       "3        1783   B\n",
       "4        1794   A"
      ]
     },
     "execution_count": 16,
     "metadata": {},
     "output_type": "execute_result"
    }
   ],
   "source": [
    "# переименуем колонку id в student_id\n",
    "all_users.rename(columns={'id':'student_id'}, inplace=True)\n",
    "all_users.head()"
   ]
  },
  {
   "cell_type": "code",
   "execution_count": 17,
   "metadata": {},
   "outputs": [
    {
     "data": {
      "text/html": [
       "<div>\n",
       "<style scoped>\n",
       "    .dataframe tbody tr th:only-of-type {\n",
       "        vertical-align: middle;\n",
       "    }\n",
       "\n",
       "    .dataframe tbody tr th {\n",
       "        vertical-align: top;\n",
       "    }\n",
       "\n",
       "    .dataframe thead th {\n",
       "        text-align: right;\n",
       "    }\n",
       "</style>\n",
       "<table border=\"1\" class=\"dataframe\">\n",
       "  <thead>\n",
       "    <tr style=\"text-align: right;\">\n",
       "      <th></th>\n",
       "      <th>student_id</th>\n",
       "      <th>grp</th>\n",
       "    </tr>\n",
       "  </thead>\n",
       "  <tbody>\n",
       "    <tr>\n",
       "      <th>0</th>\n",
       "      <td>581585</td>\n",
       "      <td>A</td>\n",
       "    </tr>\n",
       "    <tr>\n",
       "      <th>1</th>\n",
       "      <td>5723133</td>\n",
       "      <td>A</td>\n",
       "    </tr>\n",
       "    <tr>\n",
       "      <th>2</th>\n",
       "      <td>3276743</td>\n",
       "      <td>B</td>\n",
       "    </tr>\n",
       "    <tr>\n",
       "      <th>3</th>\n",
       "      <td>4238589</td>\n",
       "      <td>A</td>\n",
       "    </tr>\n",
       "    <tr>\n",
       "      <th>4</th>\n",
       "      <td>4475369</td>\n",
       "      <td>B</td>\n",
       "    </tr>\n",
       "    <tr>\n",
       "      <th>...</th>\n",
       "      <td>...</td>\n",
       "      <td>...</td>\n",
       "    </tr>\n",
       "    <tr>\n",
       "      <th>8336</th>\n",
       "      <td>1794344</td>\n",
       "      <td>B</td>\n",
       "    </tr>\n",
       "    <tr>\n",
       "      <th>8337</th>\n",
       "      <td>296883</td>\n",
       "      <td>B</td>\n",
       "    </tr>\n",
       "    <tr>\n",
       "      <th>8338</th>\n",
       "      <td>3598448</td>\n",
       "      <td>B</td>\n",
       "    </tr>\n",
       "    <tr>\n",
       "      <th>8339</th>\n",
       "      <td>3610547</td>\n",
       "      <td>B</td>\n",
       "    </tr>\n",
       "    <tr>\n",
       "      <th>8340</th>\n",
       "      <td>205705</td>\n",
       "      <td>B</td>\n",
       "    </tr>\n",
       "  </tbody>\n",
       "</table>\n",
       "<p>8341 rows × 2 columns</p>\n",
       "</div>"
      ],
      "text/plain": [
       "      student_id grp\n",
       "0         581585   A\n",
       "1        5723133   A\n",
       "2        3276743   B\n",
       "3        4238589   A\n",
       "4        4475369   B\n",
       "...          ...  ..\n",
       "8336     1794344   B\n",
       "8337      296883   B\n",
       "8338     3598448   B\n",
       "8339     3610547   B\n",
       "8340      205705   B\n",
       "\n",
       "[8341 rows x 2 columns]"
      ]
     },
     "execution_count": 17,
     "metadata": {},
     "output_type": "execute_result"
    }
   ],
   "source": [
    "# объединим два датафрэйма, чтобы узнать в какие экспериметальные группы попали пользователи\n",
    "active_studs_ab = active_studs.merge(all_users, how='inner', on='student_id')\n",
    "active_studs_ab"
   ]
  },
  {
   "cell_type": "code",
   "execution_count": 18,
   "metadata": {},
   "outputs": [
    {
     "data": {
      "text/plain": [
       "8341"
      ]
     },
     "execution_count": 18,
     "metadata": {},
     "output_type": "execute_result"
    }
   ],
   "source": [
    "# проверим, все ли id пользователей уникальны. Видим, что все (т.е. каждый пользователь встречается в датафрэйме 1 раз)\n",
    "active_studs_ab['student_id'].nunique()"
   ]
  },
  {
   "cell_type": "code",
   "execution_count": 19,
   "metadata": {},
   "outputs": [
    {
     "data": {
      "text/plain": [
       "541"
      ]
     },
     "execution_count": 19,
     "metadata": {},
     "output_type": "execute_result"
    }
   ],
   "source": [
    "#  в датафрэйме с данными об оплатах проверим, все ли id пользователей уникальны.\n",
    "# видим, что все.\n",
    "# то есть каждому id соответствует одна сумма покупки, то есть каждый пользователь совершил только одну оплату\n",
    "checks['student_id'].nunique()"
   ]
  },
  {
   "cell_type": "code",
   "execution_count": 20,
   "metadata": {},
   "outputs": [
    {
     "data": {
      "text/html": [
       "<div>\n",
       "<style scoped>\n",
       "    .dataframe tbody tr th:only-of-type {\n",
       "        vertical-align: middle;\n",
       "    }\n",
       "\n",
       "    .dataframe tbody tr th {\n",
       "        vertical-align: top;\n",
       "    }\n",
       "\n",
       "    .dataframe thead th {\n",
       "        text-align: right;\n",
       "    }\n",
       "</style>\n",
       "<table border=\"1\" class=\"dataframe\">\n",
       "  <thead>\n",
       "    <tr style=\"text-align: right;\">\n",
       "      <th></th>\n",
       "      <th>student_id</th>\n",
       "    </tr>\n",
       "    <tr>\n",
       "      <th>grp</th>\n",
       "      <th></th>\n",
       "    </tr>\n",
       "  </thead>\n",
       "  <tbody>\n",
       "    <tr>\n",
       "      <th>A</th>\n",
       "      <td>1538</td>\n",
       "    </tr>\n",
       "    <tr>\n",
       "      <th>B</th>\n",
       "      <td>6803</td>\n",
       "    </tr>\n",
       "  </tbody>\n",
       "</table>\n",
       "</div>"
      ],
      "text/plain": [
       "     student_id\n",
       "grp            \n",
       "A          1538\n",
       "B          6803"
      ]
     },
     "execution_count": 20,
     "metadata": {},
     "output_type": "execute_result"
    }
   ],
   "source": [
    "# посмотрим количественное распределение активных пользователей по группам\n",
    "# Видим, что количество пользователей в целевой группе более чем в 4 раза превышает количество в контрольной группе.\n",
    "active_studs_ab.groupby('grp').agg({'student_id':'nunique'})"
   ]
  },
  {
   "cell_type": "code",
   "execution_count": 21,
   "metadata": {
    "scrolled": true
   },
   "outputs": [
    {
     "data": {
      "text/html": [
       "<div>\n",
       "<style scoped>\n",
       "    .dataframe tbody tr th:only-of-type {\n",
       "        vertical-align: middle;\n",
       "    }\n",
       "\n",
       "    .dataframe tbody tr th {\n",
       "        vertical-align: top;\n",
       "    }\n",
       "\n",
       "    .dataframe thead th {\n",
       "        text-align: right;\n",
       "    }\n",
       "</style>\n",
       "<table border=\"1\" class=\"dataframe\">\n",
       "  <thead>\n",
       "    <tr style=\"text-align: right;\">\n",
       "      <th></th>\n",
       "      <th>student_id</th>\n",
       "      <th>grp</th>\n",
       "      <th>rev</th>\n",
       "    </tr>\n",
       "  </thead>\n",
       "  <tbody>\n",
       "    <tr>\n",
       "      <th>0</th>\n",
       "      <td>581585</td>\n",
       "      <td>A</td>\n",
       "      <td>NaN</td>\n",
       "    </tr>\n",
       "    <tr>\n",
       "      <th>1</th>\n",
       "      <td>5723133</td>\n",
       "      <td>A</td>\n",
       "      <td>NaN</td>\n",
       "    </tr>\n",
       "    <tr>\n",
       "      <th>2</th>\n",
       "      <td>3276743</td>\n",
       "      <td>B</td>\n",
       "      <td>NaN</td>\n",
       "    </tr>\n",
       "    <tr>\n",
       "      <th>3</th>\n",
       "      <td>4238589</td>\n",
       "      <td>A</td>\n",
       "      <td>NaN</td>\n",
       "    </tr>\n",
       "    <tr>\n",
       "      <th>4</th>\n",
       "      <td>4475369</td>\n",
       "      <td>B</td>\n",
       "      <td>NaN</td>\n",
       "    </tr>\n",
       "    <tr>\n",
       "      <th>...</th>\n",
       "      <td>...</td>\n",
       "      <td>...</td>\n",
       "      <td>...</td>\n",
       "    </tr>\n",
       "    <tr>\n",
       "      <th>8336</th>\n",
       "      <td>1794344</td>\n",
       "      <td>B</td>\n",
       "      <td>NaN</td>\n",
       "    </tr>\n",
       "    <tr>\n",
       "      <th>8337</th>\n",
       "      <td>296883</td>\n",
       "      <td>B</td>\n",
       "      <td>NaN</td>\n",
       "    </tr>\n",
       "    <tr>\n",
       "      <th>8338</th>\n",
       "      <td>3598448</td>\n",
       "      <td>B</td>\n",
       "      <td>NaN</td>\n",
       "    </tr>\n",
       "    <tr>\n",
       "      <th>8339</th>\n",
       "      <td>3610547</td>\n",
       "      <td>B</td>\n",
       "      <td>290.0</td>\n",
       "    </tr>\n",
       "    <tr>\n",
       "      <th>8340</th>\n",
       "      <td>205705</td>\n",
       "      <td>B</td>\n",
       "      <td>NaN</td>\n",
       "    </tr>\n",
       "  </tbody>\n",
       "</table>\n",
       "<p>8341 rows × 3 columns</p>\n",
       "</div>"
      ],
      "text/plain": [
       "      student_id grp    rev\n",
       "0         581585   A    NaN\n",
       "1        5723133   A    NaN\n",
       "2        3276743   B    NaN\n",
       "3        4238589   A    NaN\n",
       "4        4475369   B    NaN\n",
       "...          ...  ..    ...\n",
       "8336     1794344   B    NaN\n",
       "8337      296883   B    NaN\n",
       "8338     3598448   B    NaN\n",
       "8339     3610547   B  290.0\n",
       "8340      205705   B    NaN\n",
       "\n",
       "[8341 rows x 3 columns]"
      ]
     },
     "execution_count": 21,
     "metadata": {},
     "output_type": "execute_result"
    }
   ],
   "source": [
    "# объединим полученную таблицу с данными о суммах покупок. \n",
    "active_studs_ab_rev = active_studs_ab.merge(checks, on='student_id', how='left')\n",
    "active_studs_ab_rev"
   ]
  },
  {
   "cell_type": "code",
   "execution_count": 23,
   "metadata": {
    "scrolled": false
   },
   "outputs": [
    {
     "data": {
      "text/html": [
       "<div>\n",
       "<style scoped>\n",
       "    .dataframe tbody tr th:only-of-type {\n",
       "        vertical-align: middle;\n",
       "    }\n",
       "\n",
       "    .dataframe tbody tr th {\n",
       "        vertical-align: top;\n",
       "    }\n",
       "\n",
       "    .dataframe thead th {\n",
       "        text-align: right;\n",
       "    }\n",
       "</style>\n",
       "<table border=\"1\" class=\"dataframe\">\n",
       "  <thead>\n",
       "    <tr style=\"text-align: right;\">\n",
       "      <th></th>\n",
       "      <th>student_id</th>\n",
       "      <th>grp</th>\n",
       "      <th>rev</th>\n",
       "    </tr>\n",
       "  </thead>\n",
       "  <tbody>\n",
       "    <tr>\n",
       "      <th>0</th>\n",
       "      <td>581585</td>\n",
       "      <td>A</td>\n",
       "      <td>0.0</td>\n",
       "    </tr>\n",
       "    <tr>\n",
       "      <th>1</th>\n",
       "      <td>5723133</td>\n",
       "      <td>A</td>\n",
       "      <td>0.0</td>\n",
       "    </tr>\n",
       "    <tr>\n",
       "      <th>2</th>\n",
       "      <td>3276743</td>\n",
       "      <td>B</td>\n",
       "      <td>0.0</td>\n",
       "    </tr>\n",
       "    <tr>\n",
       "      <th>3</th>\n",
       "      <td>4238589</td>\n",
       "      <td>A</td>\n",
       "      <td>0.0</td>\n",
       "    </tr>\n",
       "    <tr>\n",
       "      <th>4</th>\n",
       "      <td>4475369</td>\n",
       "      <td>B</td>\n",
       "      <td>0.0</td>\n",
       "    </tr>\n",
       "  </tbody>\n",
       "</table>\n",
       "</div>"
      ],
      "text/plain": [
       "   student_id grp  rev\n",
       "0      581585   A  0.0\n",
       "1     5723133   A  0.0\n",
       "2     3276743   B  0.0\n",
       "3     4238589   A  0.0\n",
       "4     4475369   B  0.0"
      ]
     },
     "execution_count": 23,
     "metadata": {},
     "output_type": "execute_result"
    }
   ],
   "source": [
    "# заменим NAN на 0 в тех строках, где пользователь не сделал покупок\n",
    "active_studs_ab_rev['rev'] = active_studs_ab_rev['rev'].fillna(0)\n",
    "active_studs_ab_rev.head()"
   ]
  },
  {
   "cell_type": "code",
   "execution_count": 24,
   "metadata": {},
   "outputs": [
    {
     "data": {
      "text/plain": [
       "student_id      int64\n",
       "grp            object\n",
       "rev           float64\n",
       "dtype: object"
      ]
     },
     "execution_count": 24,
     "metadata": {},
     "output_type": "execute_result"
    }
   ],
   "source": [
    "# проверим, какие типы данных получились в результирующем датафрэйме\n",
    "active_studs_ab_rev.dtypes"
   ]
  },
  {
   "cell_type": "code",
   "execution_count": 25,
   "metadata": {},
   "outputs": [],
   "source": [
    "# добавим в результирующий датафрэйм еще один столбец, где будет один из двух вариантов - \n",
    "# была пользователем сделана покупка (sale) или нет (no_sale).\n",
    "active_studs_ab_rev['sale_yes_or_no']=['no_sale' if x==0 else 'sale' for x in active_studs_ab_rev['rev']]"
   ]
  },
  {
   "cell_type": "code",
   "execution_count": 26,
   "metadata": {},
   "outputs": [
    {
     "data": {
      "text/html": [
       "<div>\n",
       "<style scoped>\n",
       "    .dataframe tbody tr th:only-of-type {\n",
       "        vertical-align: middle;\n",
       "    }\n",
       "\n",
       "    .dataframe tbody tr th {\n",
       "        vertical-align: top;\n",
       "    }\n",
       "\n",
       "    .dataframe thead th {\n",
       "        text-align: right;\n",
       "    }\n",
       "</style>\n",
       "<table border=\"1\" class=\"dataframe\">\n",
       "  <thead>\n",
       "    <tr style=\"text-align: right;\">\n",
       "      <th></th>\n",
       "      <th>student_id</th>\n",
       "      <th>grp</th>\n",
       "      <th>rev</th>\n",
       "      <th>sale_yes_or_no</th>\n",
       "    </tr>\n",
       "  </thead>\n",
       "  <tbody>\n",
       "    <tr>\n",
       "      <th>0</th>\n",
       "      <td>581585</td>\n",
       "      <td>A</td>\n",
       "      <td>0.0</td>\n",
       "      <td>no_sale</td>\n",
       "    </tr>\n",
       "    <tr>\n",
       "      <th>1</th>\n",
       "      <td>5723133</td>\n",
       "      <td>A</td>\n",
       "      <td>0.0</td>\n",
       "      <td>no_sale</td>\n",
       "    </tr>\n",
       "    <tr>\n",
       "      <th>2</th>\n",
       "      <td>3276743</td>\n",
       "      <td>B</td>\n",
       "      <td>0.0</td>\n",
       "      <td>no_sale</td>\n",
       "    </tr>\n",
       "    <tr>\n",
       "      <th>3</th>\n",
       "      <td>4238589</td>\n",
       "      <td>A</td>\n",
       "      <td>0.0</td>\n",
       "      <td>no_sale</td>\n",
       "    </tr>\n",
       "    <tr>\n",
       "      <th>4</th>\n",
       "      <td>4475369</td>\n",
       "      <td>B</td>\n",
       "      <td>0.0</td>\n",
       "      <td>no_sale</td>\n",
       "    </tr>\n",
       "  </tbody>\n",
       "</table>\n",
       "</div>"
      ],
      "text/plain": [
       "   student_id grp  rev sale_yes_or_no\n",
       "0      581585   A  0.0        no_sale\n",
       "1     5723133   A  0.0        no_sale\n",
       "2     3276743   B  0.0        no_sale\n",
       "3     4238589   A  0.0        no_sale\n",
       "4     4475369   B  0.0        no_sale"
      ]
     },
     "execution_count": 26,
     "metadata": {},
     "output_type": "execute_result"
    }
   ],
   "source": [
    "active_studs_ab_rev.head()"
   ]
  },
  {
   "cell_type": "code",
   "execution_count": 27,
   "metadata": {
    "scrolled": true
   },
   "outputs": [
    {
     "data": {
      "text/html": [
       "<div>\n",
       "<style scoped>\n",
       "    .dataframe tbody tr th:only-of-type {\n",
       "        vertical-align: middle;\n",
       "    }\n",
       "\n",
       "    .dataframe tbody tr th {\n",
       "        vertical-align: top;\n",
       "    }\n",
       "\n",
       "    .dataframe thead th {\n",
       "        text-align: right;\n",
       "    }\n",
       "</style>\n",
       "<table border=\"1\" class=\"dataframe\">\n",
       "  <thead>\n",
       "    <tr style=\"text-align: right;\">\n",
       "      <th></th>\n",
       "      <th>student_id</th>\n",
       "      <th>grp</th>\n",
       "      <th>rev</th>\n",
       "      <th>sale_yes_or_no</th>\n",
       "    </tr>\n",
       "  </thead>\n",
       "  <tbody>\n",
       "    <tr>\n",
       "      <th>0</th>\n",
       "      <td>581585</td>\n",
       "      <td>A</td>\n",
       "      <td>0.0</td>\n",
       "      <td>no_sale</td>\n",
       "    </tr>\n",
       "    <tr>\n",
       "      <th>1</th>\n",
       "      <td>5723133</td>\n",
       "      <td>A</td>\n",
       "      <td>0.0</td>\n",
       "      <td>no_sale</td>\n",
       "    </tr>\n",
       "    <tr>\n",
       "      <th>3</th>\n",
       "      <td>4238589</td>\n",
       "      <td>A</td>\n",
       "      <td>0.0</td>\n",
       "      <td>no_sale</td>\n",
       "    </tr>\n",
       "    <tr>\n",
       "      <th>7</th>\n",
       "      <td>1394612</td>\n",
       "      <td>A</td>\n",
       "      <td>0.0</td>\n",
       "      <td>no_sale</td>\n",
       "    </tr>\n",
       "    <tr>\n",
       "      <th>21</th>\n",
       "      <td>5194768</td>\n",
       "      <td>A</td>\n",
       "      <td>0.0</td>\n",
       "      <td>no_sale</td>\n",
       "    </tr>\n",
       "    <tr>\n",
       "      <th>...</th>\n",
       "      <td>...</td>\n",
       "      <td>...</td>\n",
       "      <td>...</td>\n",
       "      <td>...</td>\n",
       "    </tr>\n",
       "    <tr>\n",
       "      <th>8317</th>\n",
       "      <td>3208984</td>\n",
       "      <td>A</td>\n",
       "      <td>0.0</td>\n",
       "      <td>no_sale</td>\n",
       "    </tr>\n",
       "    <tr>\n",
       "      <th>8320</th>\n",
       "      <td>2900558</td>\n",
       "      <td>A</td>\n",
       "      <td>0.0</td>\n",
       "      <td>no_sale</td>\n",
       "    </tr>\n",
       "    <tr>\n",
       "      <th>8326</th>\n",
       "      <td>1161774</td>\n",
       "      <td>A</td>\n",
       "      <td>0.0</td>\n",
       "      <td>no_sale</td>\n",
       "    </tr>\n",
       "    <tr>\n",
       "      <th>8330</th>\n",
       "      <td>5006972</td>\n",
       "      <td>A</td>\n",
       "      <td>0.0</td>\n",
       "      <td>no_sale</td>\n",
       "    </tr>\n",
       "    <tr>\n",
       "      <th>8334</th>\n",
       "      <td>4037274</td>\n",
       "      <td>A</td>\n",
       "      <td>0.0</td>\n",
       "      <td>no_sale</td>\n",
       "    </tr>\n",
       "  </tbody>\n",
       "</table>\n",
       "<p>1538 rows × 4 columns</p>\n",
       "</div>"
      ],
      "text/plain": [
       "      student_id grp  rev sale_yes_or_no\n",
       "0         581585   A  0.0        no_sale\n",
       "1        5723133   A  0.0        no_sale\n",
       "3        4238589   A  0.0        no_sale\n",
       "7        1394612   A  0.0        no_sale\n",
       "21       5194768   A  0.0        no_sale\n",
       "...          ...  ..  ...            ...\n",
       "8317     3208984   A  0.0        no_sale\n",
       "8320     2900558   A  0.0        no_sale\n",
       "8326     1161774   A  0.0        no_sale\n",
       "8330     5006972   A  0.0        no_sale\n",
       "8334     4037274   A  0.0        no_sale\n",
       "\n",
       "[1538 rows x 4 columns]"
      ]
     },
     "execution_count": 27,
     "metadata": {},
     "output_type": "execute_result"
    }
   ],
   "source": [
    "# отберем в датафрэйм а  всех пользователей из контрольной группы\n",
    "a = active_studs_ab_rev.query('grp==\"A\"')\n",
    "a"
   ]
  },
  {
   "cell_type": "code",
   "execution_count": 28,
   "metadata": {
    "scrolled": true
   },
   "outputs": [
    {
     "data": {
      "text/html": [
       "<div>\n",
       "<style scoped>\n",
       "    .dataframe tbody tr th:only-of-type {\n",
       "        vertical-align: middle;\n",
       "    }\n",
       "\n",
       "    .dataframe tbody tr th {\n",
       "        vertical-align: top;\n",
       "    }\n",
       "\n",
       "    .dataframe thead th {\n",
       "        text-align: right;\n",
       "    }\n",
       "</style>\n",
       "<table border=\"1\" class=\"dataframe\">\n",
       "  <thead>\n",
       "    <tr style=\"text-align: right;\">\n",
       "      <th></th>\n",
       "      <th>student_id</th>\n",
       "      <th>grp</th>\n",
       "      <th>rev</th>\n",
       "      <th>sale_yes_or_no</th>\n",
       "    </tr>\n",
       "  </thead>\n",
       "  <tbody>\n",
       "    <tr>\n",
       "      <th>2</th>\n",
       "      <td>3276743</td>\n",
       "      <td>B</td>\n",
       "      <td>0.0</td>\n",
       "      <td>no_sale</td>\n",
       "    </tr>\n",
       "    <tr>\n",
       "      <th>4</th>\n",
       "      <td>4475369</td>\n",
       "      <td>B</td>\n",
       "      <td>0.0</td>\n",
       "      <td>no_sale</td>\n",
       "    </tr>\n",
       "    <tr>\n",
       "      <th>5</th>\n",
       "      <td>5481015</td>\n",
       "      <td>B</td>\n",
       "      <td>0.0</td>\n",
       "      <td>no_sale</td>\n",
       "    </tr>\n",
       "    <tr>\n",
       "      <th>6</th>\n",
       "      <td>1353433</td>\n",
       "      <td>B</td>\n",
       "      <td>0.0</td>\n",
       "      <td>no_sale</td>\n",
       "    </tr>\n",
       "    <tr>\n",
       "      <th>8</th>\n",
       "      <td>1170611</td>\n",
       "      <td>B</td>\n",
       "      <td>0.0</td>\n",
       "      <td>no_sale</td>\n",
       "    </tr>\n",
       "    <tr>\n",
       "      <th>...</th>\n",
       "      <td>...</td>\n",
       "      <td>...</td>\n",
       "      <td>...</td>\n",
       "      <td>...</td>\n",
       "    </tr>\n",
       "    <tr>\n",
       "      <th>8336</th>\n",
       "      <td>1794344</td>\n",
       "      <td>B</td>\n",
       "      <td>0.0</td>\n",
       "      <td>no_sale</td>\n",
       "    </tr>\n",
       "    <tr>\n",
       "      <th>8337</th>\n",
       "      <td>296883</td>\n",
       "      <td>B</td>\n",
       "      <td>0.0</td>\n",
       "      <td>no_sale</td>\n",
       "    </tr>\n",
       "    <tr>\n",
       "      <th>8338</th>\n",
       "      <td>3598448</td>\n",
       "      <td>B</td>\n",
       "      <td>0.0</td>\n",
       "      <td>no_sale</td>\n",
       "    </tr>\n",
       "    <tr>\n",
       "      <th>8339</th>\n",
       "      <td>3610547</td>\n",
       "      <td>B</td>\n",
       "      <td>290.0</td>\n",
       "      <td>sale</td>\n",
       "    </tr>\n",
       "    <tr>\n",
       "      <th>8340</th>\n",
       "      <td>205705</td>\n",
       "      <td>B</td>\n",
       "      <td>0.0</td>\n",
       "      <td>no_sale</td>\n",
       "    </tr>\n",
       "  </tbody>\n",
       "</table>\n",
       "<p>6803 rows × 4 columns</p>\n",
       "</div>"
      ],
      "text/plain": [
       "      student_id grp    rev sale_yes_or_no\n",
       "2        3276743   B    0.0        no_sale\n",
       "4        4475369   B    0.0        no_sale\n",
       "5        5481015   B    0.0        no_sale\n",
       "6        1353433   B    0.0        no_sale\n",
       "8        1170611   B    0.0        no_sale\n",
       "...          ...  ..    ...            ...\n",
       "8336     1794344   B    0.0        no_sale\n",
       "8337      296883   B    0.0        no_sale\n",
       "8338     3598448   B    0.0        no_sale\n",
       "8339     3610547   B  290.0           sale\n",
       "8340      205705   B    0.0        no_sale\n",
       "\n",
       "[6803 rows x 4 columns]"
      ]
     },
     "execution_count": 28,
     "metadata": {},
     "output_type": "execute_result"
    }
   ],
   "source": [
    "# отберем в датафрэйм b  всех пользователей из целевой (тестовой) группы\n",
    "b = active_studs_ab_rev.query('grp==\"B\"')\n",
    "b"
   ]
  },
  {
   "cell_type": "code",
   "execution_count": 29,
   "metadata": {},
   "outputs": [
    {
     "data": {
      "text/plain": [
       "78"
      ]
     },
     "execution_count": 29,
     "metadata": {},
     "output_type": "execute_result"
    }
   ],
   "source": [
    "# посчитаем количество пользователей в контрольной группе, которые совершили покупку\n",
    "a.query('rev!=0').student_id.count()"
   ]
  },
  {
   "cell_type": "code",
   "execution_count": 30,
   "metadata": {},
   "outputs": [
    {
     "data": {
      "text/plain": [
       "1538"
      ]
     },
     "execution_count": 30,
     "metadata": {},
     "output_type": "execute_result"
    }
   ],
   "source": [
    "# посчитаем общее количество пользователей в контрольной группе\n",
    "a.student_id.count()"
   ]
  },
  {
   "cell_type": "code",
   "execution_count": 31,
   "metadata": {},
   "outputs": [
    {
     "data": {
      "text/plain": [
       "0.05071521456436931"
      ]
     },
     "execution_count": 31,
     "metadata": {},
     "output_type": "execute_result"
    }
   ],
   "source": [
    "# посчитаем конверсию из посетителей в покупатели в контрольной группе.\n",
    "\n",
    "78/1538"
   ]
  },
  {
   "cell_type": "code",
   "execution_count": 32,
   "metadata": {
    "scrolled": true
   },
   "outputs": [
    {
     "data": {
      "text/plain": [
       "314"
      ]
     },
     "execution_count": 32,
     "metadata": {},
     "output_type": "execute_result"
    }
   ],
   "source": [
    "# посчитаем количество пользователей в тестовой группе, которые совершили покупку\n",
    "b.query('rev!=0').student_id.count()"
   ]
  },
  {
   "cell_type": "code",
   "execution_count": 33,
   "metadata": {
    "scrolled": true
   },
   "outputs": [
    {
     "data": {
      "text/plain": [
       "6803"
      ]
     },
     "execution_count": 33,
     "metadata": {},
     "output_type": "execute_result"
    }
   ],
   "source": [
    "# посчитаем конверсию из посетителей в покупатели в тестовой группе.\n",
    "b.student_id.count()"
   ]
  },
  {
   "cell_type": "code",
   "execution_count": 34,
   "metadata": {},
   "outputs": [
    {
     "data": {
      "text/plain": [
       "0.046156107599588415"
      ]
     },
     "execution_count": 34,
     "metadata": {},
     "output_type": "execute_result"
    }
   ],
   "source": [
    "# посчитаем конверсию из посетителей в покупатели в тестовой группе.\n",
    "\n",
    "314/6803"
   ]
  },
  {
   "cell_type": "markdown",
   "metadata": {},
   "source": [
    "### получили, что конверсия из посещения в покупку с новой механикой оплаты услуг уменьшилась на 0,46% по сравнению с базовой"
   ]
  },
  {
   "cell_type": "code",
   "execution_count": 35,
   "metadata": {},
   "outputs": [],
   "source": [
    "# проверим этот результат на статистическую значимость. Для этого используем таблицу сопряженности и критерий хи квардат.\n",
    "# за нулевую гипотезу примем предположение, что распределения признака (купил/не купил) в группах А и В одинаковы.\n",
    "\n",
    "#Проверим соблюдение необходимых условий для применения этого критерия:\n",
    "\n",
    "# данные являются категориальными\n",
    "# количество наблюдений в каждой ячейке таблицы сопряженности не меньше 5\n",
    "# наблюдения являются независимыми (предполагаем, что по условиям эксперимента это было так)\n",
    "# имеется достаточное количество наблюдений для проведения анализа.\n",
    "\n",
    "# Все условия соблюдены"
   ]
  },
  {
   "cell_type": "code",
   "execution_count": 36,
   "metadata": {
    "scrolled": true
   },
   "outputs": [
    {
     "data": {
      "text/html": [
       "<div>\n",
       "<style scoped>\n",
       "    .dataframe tbody tr th:only-of-type {\n",
       "        vertical-align: middle;\n",
       "    }\n",
       "\n",
       "    .dataframe tbody tr th {\n",
       "        vertical-align: top;\n",
       "    }\n",
       "\n",
       "    .dataframe thead th {\n",
       "        text-align: right;\n",
       "    }\n",
       "</style>\n",
       "<table border=\"1\" class=\"dataframe\">\n",
       "  <thead>\n",
       "    <tr style=\"text-align: right;\">\n",
       "      <th>grp</th>\n",
       "      <th>A</th>\n",
       "      <th>B</th>\n",
       "    </tr>\n",
       "    <tr>\n",
       "      <th>sale_yes_or_no</th>\n",
       "      <th></th>\n",
       "      <th></th>\n",
       "    </tr>\n",
       "  </thead>\n",
       "  <tbody>\n",
       "    <tr>\n",
       "      <th>no_sale</th>\n",
       "      <td>1460</td>\n",
       "      <td>6489</td>\n",
       "    </tr>\n",
       "    <tr>\n",
       "      <th>sale</th>\n",
       "      <td>78</td>\n",
       "      <td>314</td>\n",
       "    </tr>\n",
       "  </tbody>\n",
       "</table>\n",
       "</div>"
      ],
      "text/plain": [
       "grp                A     B\n",
       "sale_yes_or_no            \n",
       "no_sale         1460  6489\n",
       "sale              78   314"
      ]
     },
     "execution_count": 36,
     "metadata": {},
     "output_type": "execute_result"
    }
   ],
   "source": [
    "# построим таблицу сопряженности\n",
    "active_studs_ab_rev_cross = pd.crosstab(active_studs_ab_rev.sale_yes_or_no, active_studs_ab_rev.grp)\n",
    "active_studs_ab_rev_cross"
   ]
  },
  {
   "cell_type": "code",
   "execution_count": 37,
   "metadata": {},
   "outputs": [],
   "source": [
    "from scipy.stats import chi2_contingency, chi2"
   ]
  },
  {
   "cell_type": "code",
   "execution_count": 38,
   "metadata": {},
   "outputs": [],
   "source": [
    "stat, p, dof, expected = chi2_contingency(active_studs_ab_rev_cross)"
   ]
  },
  {
   "cell_type": "code",
   "execution_count": 39,
   "metadata": {},
   "outputs": [
    {
     "data": {
      "text/plain": [
       "(0.48480826522557896, 0.48625240457231045)"
      ]
     },
     "execution_count": 39,
     "metadata": {},
     "output_type": "execute_result"
    }
   ],
   "source": [
    "stat, p"
   ]
  },
  {
   "cell_type": "markdown",
   "metadata": {},
   "source": [
    "значение критерия намного меньше 12, а P-value оказался значительно больше, чем 0.05, <br>\n",
    "следовательно мы не можем отклонить нулевую гипотезу о том, что количество покупок в тестовой группе не отличается от их количества в контрольной группе.\n",
    "### в результате исследования мы обнаружили, что при использовании новой механики оплаты не произошло статистически значимого изменения конверсии посещений в покупки."
   ]
  },
  {
   "cell_type": "markdown",
   "metadata": {},
   "source": [
    "Предположим, что новая механика оплаты могла повлиять не только на факт, сделана покупка или нет, но и на сумму покупки. К примеру, при большой сумме покупки на странице оплаты предоставляется дополнительная скидка. <br>\n",
    "Проверим это предположение с помощью метрики ARPU."
   ]
  },
  {
   "cell_type": "code",
   "execution_count": 40,
   "metadata": {},
   "outputs": [
    {
     "data": {
      "text/plain": [
       "47.34720416124838"
      ]
     },
     "execution_count": 40,
     "metadata": {},
     "output_type": "execute_result"
    }
   ],
   "source": [
    "# посчитаем, какой ARPU получился в обеих группах.\n",
    "# чтобы найти ARPU, общую сумму покупок в каждой группе разделим на количество пользователей в этой группе\n",
    "a['rev'].sum()/1538"
   ]
  },
  {
   "cell_type": "code",
   "execution_count": 41,
   "metadata": {},
   "outputs": [
    {
     "data": {
      "text/plain": [
       "58.05879810377775"
      ]
     },
     "execution_count": 41,
     "metadata": {},
     "output_type": "execute_result"
    }
   ],
   "source": [
    "b['rev'].sum()/6803"
   ]
  },
  {
   "cell_type": "markdown",
   "metadata": {},
   "source": [
    "Видим, что ARPU в тестовой группе больше примерно на 23%, чем в контрольной группе. Проверим статистическую значимость этих различий."
   ]
  },
  {
   "cell_type": "code",
   "execution_count": 42,
   "metadata": {},
   "outputs": [
    {
     "data": {
      "text/html": [
       "<div>\n",
       "<style scoped>\n",
       "    .dataframe tbody tr th:only-of-type {\n",
       "        vertical-align: middle;\n",
       "    }\n",
       "\n",
       "    .dataframe tbody tr th {\n",
       "        vertical-align: top;\n",
       "    }\n",
       "\n",
       "    .dataframe thead th {\n",
       "        text-align: right;\n",
       "    }\n",
       "</style>\n",
       "<table border=\"1\" class=\"dataframe\">\n",
       "  <thead>\n",
       "    <tr style=\"text-align: right;\">\n",
       "      <th></th>\n",
       "      <th>rev</th>\n",
       "    </tr>\n",
       "  </thead>\n",
       "  <tbody>\n",
       "    <tr>\n",
       "      <th>62</th>\n",
       "      <td>1530.0</td>\n",
       "    </tr>\n",
       "    <tr>\n",
       "      <th>99</th>\n",
       "      <td>1980.0</td>\n",
       "    </tr>\n",
       "    <tr>\n",
       "      <th>306</th>\n",
       "      <td>580.0</td>\n",
       "    </tr>\n",
       "    <tr>\n",
       "      <th>392</th>\n",
       "      <td>2910.0</td>\n",
       "    </tr>\n",
       "    <tr>\n",
       "      <th>439</th>\n",
       "      <td>690.0</td>\n",
       "    </tr>\n",
       "  </tbody>\n",
       "</table>\n",
       "</div>"
      ],
      "text/plain": [
       "        rev\n",
       "62   1530.0\n",
       "99   1980.0\n",
       "306   580.0\n",
       "392  2910.0\n",
       "439   690.0"
      ]
     },
     "execution_count": 42,
     "metadata": {},
     "output_type": "execute_result"
    }
   ],
   "source": [
    "# для удобства исследования, чтобы не мешало большое количество данных с нулевой суммой платежа,\n",
    "# будем сравнивать не APRU, а ARPPU, то есть только те строки, где была совершена покупка\n",
    "# мы можем так сделать, потому что ранее убедились в том, что конверсии в покупку в обеих группах\n",
    "# статистически значимо не различаются\n",
    "a_sales = a.query('rev!=0').rev.to_frame()\n",
    "a_sales.head()"
   ]
  },
  {
   "cell_type": "code",
   "execution_count": 44,
   "metadata": {
    "scrolled": true
   },
   "outputs": [
    {
     "name": "stderr",
     "output_type": "stream",
     "text": [
      "/opt/tljh/user/lib/python3.7/site-packages/seaborn/_decorators.py:43: FutureWarning: Pass the following variable as a keyword arg: x. From version 0.12, the only valid positional argument will be `data`, and passing other arguments without an explicit keyword will result in an error or misinterpretation.\n",
      "  FutureWarning\n"
     ]
    },
    {
     "data": {
      "text/plain": [
       "<matplotlib.axes._subplots.AxesSubplot at 0x7faf703dc278>"
      ]
     },
     "execution_count": 44,
     "metadata": {},
     "output_type": "execute_result"
    },
    {
     "data": {
      "image/png": "[encoded data removed]",
      "text/plain": [
       "<Figure size 936x216 with 1 Axes>"
      ]
     },
     "metadata": {},
     "output_type": "display_data"
    }
   ],
   "source": [
    "# построим countplot, чтобы посмотреть распределение сумм оплат в контрольной группе\n",
    "sns.set(rc={\"figure.figsize\":(13,3)})\n",
    "plt.xticks(rotation=45)\n",
    "sns.countplot(a_sales.query('rev!=0').rev)"
   ]
  },
  {
   "cell_type": "code",
   "execution_count": 45,
   "metadata": {},
   "outputs": [],
   "source": [
    "# по графику видно, что распределение мало похоже на нормальное. \n",
    "# но на всякий случай проверим его на нормальность с помощью теста Шапиро-Уилка\n",
    "from scipy.stats import shapiro"
   ]
  },
  {
   "cell_type": "code",
   "execution_count": 46,
   "metadata": {},
   "outputs": [],
   "source": [
    "stat, p = shapiro(a_sales.rev)"
   ]
  },
  {
   "cell_type": "code",
   "execution_count": 47,
   "metadata": {},
   "outputs": [
    {
     "name": "stdout",
     "output_type": "stream",
     "text": [
      "Статистика теста: 0.7353236079216003\n",
      "p-значение: 1.4986822893803264e-10\n"
     ]
    }
   ],
   "source": [
    "print ('Статистика теста:', stat)\n",
    "print ('p-значение:', p)"
   ]
  },
  {
   "cell_type": "markdown",
   "metadata": {},
   "source": [
    "как видно из результатов теста, p-значение намного меньше, чем 0.05, следовательно данные не распределены нормально"
   ]
  },
  {
   "cell_type": "code",
   "execution_count": 49,
   "metadata": {},
   "outputs": [
    {
     "data": {
      "text/html": [
       "<div>\n",
       "<style scoped>\n",
       "    .dataframe tbody tr th:only-of-type {\n",
       "        vertical-align: middle;\n",
       "    }\n",
       "\n",
       "    .dataframe tbody tr th {\n",
       "        vertical-align: top;\n",
       "    }\n",
       "\n",
       "    .dataframe thead th {\n",
       "        text-align: right;\n",
       "    }\n",
       "</style>\n",
       "<table border=\"1\" class=\"dataframe\">\n",
       "  <thead>\n",
       "    <tr style=\"text-align: right;\">\n",
       "      <th></th>\n",
       "      <th>rev</th>\n",
       "    </tr>\n",
       "  </thead>\n",
       "  <tbody>\n",
       "    <tr>\n",
       "      <th>67</th>\n",
       "      <td>1900.0001</td>\n",
       "    </tr>\n",
       "    <tr>\n",
       "      <th>77</th>\n",
       "      <td>1900.0000</td>\n",
       "    </tr>\n",
       "    <tr>\n",
       "      <th>193</th>\n",
       "      <td>1900.0000</td>\n",
       "    </tr>\n",
       "    <tr>\n",
       "      <th>195</th>\n",
       "      <td>1900.0000</td>\n",
       "    </tr>\n",
       "    <tr>\n",
       "      <th>211</th>\n",
       "      <td>1900.0000</td>\n",
       "    </tr>\n",
       "    <tr>\n",
       "      <th>...</th>\n",
       "      <td>...</td>\n",
       "    </tr>\n",
       "    <tr>\n",
       "      <th>8109</th>\n",
       "      <td>1900.0001</td>\n",
       "    </tr>\n",
       "    <tr>\n",
       "      <th>8191</th>\n",
       "      <td>1900.0000</td>\n",
       "    </tr>\n",
       "    <tr>\n",
       "      <th>8201</th>\n",
       "      <td>199.0000</td>\n",
       "    </tr>\n",
       "    <tr>\n",
       "      <th>8277</th>\n",
       "      <td>597.0000</td>\n",
       "    </tr>\n",
       "    <tr>\n",
       "      <th>8339</th>\n",
       "      <td>290.0000</td>\n",
       "    </tr>\n",
       "  </tbody>\n",
       "</table>\n",
       "<p>314 rows × 1 columns</p>\n",
       "</div>"
      ],
      "text/plain": [
       "            rev\n",
       "67    1900.0001\n",
       "77    1900.0000\n",
       "193   1900.0000\n",
       "195   1900.0000\n",
       "211   1900.0000\n",
       "...         ...\n",
       "8109  1900.0001\n",
       "8191  1900.0000\n",
       "8201   199.0000\n",
       "8277   597.0000\n",
       "8339   290.0000\n",
       "\n",
       "[314 rows x 1 columns]"
      ]
     },
     "execution_count": 49,
     "metadata": {},
     "output_type": "execute_result"
    }
   ],
   "source": [
    "# теперь проверим на нормальность распределение сумм покупок в тестовой группе\n",
    "b_sales = b.query('rev!=0').rev.to_frame()\n",
    "b_sales"
   ]
  },
  {
   "cell_type": "code",
   "execution_count": 50,
   "metadata": {},
   "outputs": [
    {
     "name": "stderr",
     "output_type": "stream",
     "text": [
      "/opt/tljh/user/lib/python3.7/site-packages/seaborn/_decorators.py:43: FutureWarning: Pass the following variable as a keyword arg: x. From version 0.12, the only valid positional argument will be `data`, and passing other arguments without an explicit keyword will result in an error or misinterpretation.\n",
      "  FutureWarning\n"
     ]
    },
    {
     "data": {
      "text/plain": [
       "<matplotlib.axes._subplots.AxesSubplot at 0x7faf5d75a940>"
      ]
     },
     "execution_count": 50,
     "metadata": {},
     "output_type": "execute_result"
    },
    {
     "data": {
      "image/png": "[encoded data removed]",
      "text/plain": [
       "<Figure size 936x216 with 1 Axes>"
      ]
     },
     "metadata": {},
     "output_type": "display_data"
    }
   ],
   "source": [
    "# построим countplot, чтобы посмотреть распределение сумм оплат в тестовой группе\n",
    "sns.set(rc={\"figure.figsize\":(13,3)})\n",
    "plt.xticks(rotation=45)\n",
    "sns.countplot(b_sales.rev)"
   ]
  },
  {
   "cell_type": "code",
   "execution_count": 51,
   "metadata": {},
   "outputs": [],
   "source": [
    "stat, p = shapiro(a_sales.rev)"
   ]
  },
  {
   "cell_type": "code",
   "execution_count": 52,
   "metadata": {},
   "outputs": [
    {
     "name": "stdout",
     "output_type": "stream",
     "text": [
      "Статистика теста: 0.7353236079216003\n",
      "p-значение: 1.4986822893803264e-10\n"
     ]
    }
   ],
   "source": [
    "print ('Статистика теста:', stat)\n",
    "print ('p-значение:', p)"
   ]
  },
  {
   "cell_type": "markdown",
   "metadata": {},
   "source": [
    "в этой группе также p-значение намного меньше, чем 0.05, следовательно данные не распределены нормально"
   ]
  },
  {
   "cell_type": "markdown",
   "metadata": {},
   "source": [
    "Распределения не являются нормальными, но при этом количество имеющихся данных достаточно велико: <br>\n",
    "78 - в контрольной группе и 314 в тестовой, <br>\n",
    "для определения наличия статистически значимых различий между средними двух этих групп применим t-test."
   ]
  },
  {
   "cell_type": "code",
   "execution_count": 53,
   "metadata": {},
   "outputs": [],
   "source": [
    "from scipy.stats import ttest_ind"
   ]
  },
  {
   "cell_type": "code",
   "execution_count": 54,
   "metadata": {},
   "outputs": [
    {
     "data": {
      "text/plain": [
       "Ttest_indResult(statistic=3.1337795050930985, pvalue=0.0018562025265765867)"
      ]
     },
     "execution_count": 54,
     "metadata": {},
     "output_type": "execute_result"
    }
   ],
   "source": [
    "ttest_ind(b_sales.rev,a_sales.rev)"
   ]
  },
  {
   "cell_type": "markdown",
   "metadata": {},
   "source": [
    "p-value меньше, чем 0.05, следовательно существует статистически значимая разница между ARPPU <br>\n",
    "в тестовой и контрольной группах."
   ]
  },
  {
   "cell_type": "markdown",
   "metadata": {},
   "source": [
    "## Аналитическое заключение по результатам анализа:\n",
    "В результате анализа данных обнаружено следующее: <br>\n",
    "В группе, где использовалась новая механика оплаты, пользователи сделали тратили статистически больше денег, чем те, которые пользовались старой механикой. Поэтому можно рекомендовать включить новую механику оплаты на всех пользователей.<br><br>\n",
    "Рекомендация: в дальнейшем доработать систему так, чтобы увеличилась конверсия из посетителя в покупателя (на данный момент у пользователей из групп, использовавших разные механики оплаты, конверсия статистически значимо не различается.)"
   ]
  },
  {
   "cell_type": "markdown",
   "metadata": {},
   "source": [
    "### Реализуем функцию, которая будет автоматически подгружать информацию из дополнительного файла groups_add.csv и на основании дополнительных параметров пересчитывать метрики.<br><br>\n"
   ]
  },
  {
   "cell_type": "code",
   "execution_count": 1,
   "metadata": {},
   "outputs": [],
   "source": [
    "# у нас имеется три файла: groups.csv, active_studs.csv и checks.csv\n",
    "# требуется реализовать функцию, которая будет подгружать дополнительный 4-ый файл group_add.csv \n",
    "#(он может называться и по-другому)\n",
    "# и на основе данных этих 4-х файлов функция должна расчитывать значения метрик, которые были расчитаны выше:\n",
    "# конверсию в покупку, ARPU, ARPPU для тестовой и контрольной групп."
   ]
  },
  {
   "cell_type": "code",
   "execution_count": 57,
   "metadata": {},
   "outputs": [],
   "source": [
    "def recount(path_to_file):\n",
    "\n",
    "    #base_url = 'https://cloud-api.yandex.net/v1/disk/public/resources/download?' \n",
    "    #public_key_group_add = path_to_file\n",
    "    #final_url_group_add = base_url + urlencode(dict(public_key=public_key_group_add)) \n",
    "    #group_add = pd.read_csv(requests.get(final_url_group_add).json()['href'], sep=';')\n",
    "    \n",
    "    group_add = pd.read_csv(path_to_file, sep=',')\n",
    "    all_users = pd.concat([groups, group_add], ignore_index=True)\n",
    "    all_users.rename(columns={'id':'student_id'}, inplace=True)\n",
    "    active_studs_ab = active_studs.merge(all_users, how='inner', on='student_id')\n",
    "    active_studs_ab_rev = active_studs_ab.merge(checks, on='student_id', how='left')\n",
    "    active_studs_ab_rev['rev'] = active_studs_ab_rev['rev'].fillna(0)\n",
    "    active_studs_ab_rev['sale_yes_or_no']=['no_sale' if x==0 else 'sale' for x in active_studs_ab_rev['rev']]\n",
    "    print(\"МЕТРИКИ:\")\n",
    "    number_of_sales_in_A_group = active_studs_ab_rev.query('grp==\"A\" & sale_yes_or_no==\"sale\"').agg({'student_id':'count'}).to_frame().iloc[0][0]\n",
    "    number_of_users_in_A_group = active_studs_ab_rev.query('grp==\"A\"').agg({'student_id':'count'}).to_frame().iloc[0][0]\n",
    "    CR_A_group = number_of_sales_in_A_group/number_of_users_in_A_group\n",
    "    print ('Конверсия в покупку в контрольной группе', CR_A_group)\n",
    "    number_of_sales_in_B_group = active_studs_ab_rev.query('grp==\"B\" & sale_yes_or_no==\"sale\"').agg({'student_id':'count'}).to_frame().iloc[0][0]\n",
    "    number_of_users_in_B_group = active_studs_ab_rev.query('grp==\"B\"').agg({'student_id':'count'}).to_frame().iloc[0][0]\n",
    "    CR_B_group = number_of_sales_in_B_group/number_of_users_in_B_group\n",
    "    print ('Конверсия в покупку в тестовой группе', CR_B_group)\n",
    "    total_revenue_in_A_group = active_studs_ab_rev.query('grp==\"A\"')['rev'].sum()\n",
    "    number_of_students_in_A_group = active_studs_ab_rev.query('grp==\"A\"')['student_id'].count()\n",
    "    ARPU_in_A_group = total_revenue_in_A_group/number_of_students_in_A_group\n",
    "    print(\"ARPU в контрольной группе\", ARPU_in_A_group)\n",
    "    total_revenue_in_B_group = active_studs_ab_rev.query('grp==\"B\"')['rev'].sum()\n",
    "    number_of_students_in_B_group = active_studs_ab_rev.query('grp==\"B\"')['student_id'].count()\n",
    "    ARPU_in_B_group = total_revenue_in_B_group/number_of_students_in_B_group\n",
    "    print(\"ARPU в тестовой группе\", ARPU_in_B_group)\n",
    "    number_of_paying_students_in_A_group = active_studs_ab_rev.query('grp==\"A\" & rev!=0')['student_id'].count()\n",
    "    ARPPU_in_A_group = total_revenue_in_A_group/number_of_paying_students_in_A_group\n",
    "    print(\"ARPPU в контрольной группе\", ARPPU_in_A_group)\n",
    "    number_of_paying_students_in_B_group = active_studs_ab_rev.query('grp==\"B\" & rev!=0')['student_id'].count()\n",
    "    ARPPU_in_B_group = total_revenue_in_B_group/number_of_paying_students_in_B_group\n",
    "    print(\"ARPPU в тестовой группе\", ARPPU_in_B_group)\n",
    "    \n",
    "    \n",
    "    return [CR_A_group, CR_B_group, ARPU_in_A_group, ARPU_in_B_group, ARPPU_in_A_group, ARPPU_in_B_group]"
   ]
  },
  {
   "cell_type": "code",
   "execution_count": 59,
   "metadata": {
    "scrolled": false
   },
   "outputs": [
    {
     "name": "stdout",
     "output_type": "stream",
     "text": [
      "МЕТРИКИ:\n",
      "Конверсия в покупку в контрольной группе 0.050814332247557006\n",
      "Конверсия в покупку в тестовой группе 0.04607684380980421\n",
      "ARPU в контрольной группе 47.43973941368078\n",
      "ARPU в тестовой группе 57.86456698071544\n",
      "ARPPU в контрольной группе 933.5897435897435\n",
      "ARPPU в тестовой группе 1255.8274872204472\n"
     ]
    },
    {
     "data": {
      "text/plain": [
       "[0.050814332247557006,\n",
       " 0.04607684380980421,\n",
       " 47.43973941368078,\n",
       " 57.86456698071544,\n",
       " 933.5897435897435,\n",
       " 1255.8274872204472]"
      ]
     },
     "execution_count": 59,
     "metadata": {},
     "output_type": "execute_result"
    }
   ],
   "source": [
    "# демонстрация работы функции (в качестве аргумента подается адрес расположения дополнительного файла с данными,\n",
    "# заключенный в кавычки):\n",
    "x = recount('https://disk.yandex.ru/d/5Kxrz02m3IBUwQ')\n",
    "x"
   ]
  },
  {
   "cell_type": "markdown",
   "metadata": {},
   "source": [
    "### Теперь реализуем функцию, которая будет строить графики по получаемым метрикам"
   ]
  },
  {
   "cell_type": "code",
   "execution_count": 75,
   "metadata": {},
   "outputs": [],
   "source": [
    "# в качестве аргумента функции передаем результат работы предыдущей функции recount: список из посчитанных метрик\n",
    "def visual(arg):\n",
    "    \n",
    "    # создаем датафрэйм со значениями конверсии в контрольной и тестовой группах - помещаем в него два первых элемента списка\n",
    "    CR_metrics = pd.DataFrame([[arg[0], arg[1]]], columns=['Контр. группа', 'Тест. группа'])\n",
    "    \n",
    "    # создаем датафрэйм со значениями ARPU в контрольной и тестовой группах - помещаем в него два следующих элемента списка\n",
    "    ARPU_metrics = pd.DataFrame([[arg[2], arg[3]]], columns=['Контр. группа', 'Тест. группа'])\n",
    "    \n",
    "    # создаем датафрэйм со значениями ARPPU в контрольной и тестовой группах - помещаем в него два следующих элемента списка\n",
    "    ARPPU_metrics = pd.DataFrame([[arg[4], arg[5]]], columns=['Контр. группа', 'Тест. группа'])\n",
    "    \n",
    "    # Для того, чтобы расположить несколько графиков на одном листе, используем plt.subplots\n",
    "    fig, axes = plt.subplots(1,3, constrained_layout=True)\n",
    "    plt.suptitle('Сравнительные результаты по метрикам контрольной и тестовой группы')\n",
    "    \n",
    "    #строим три барплота для трех метрик, на которых наглядно видна разница между значениями для\n",
    "    # контрольной и тестовой групп\n",
    "    sns.barplot(data=CR_metrics, ax=axes[0])\n",
    "    axes[0].set_title(\"Конверсия в продажу\")\n",
    "    sns.barplot(data=ARPU_metrics, ax=axes[1])\n",
    "    axes[1].set_title(\"ARPU\")    \n",
    "    sns.barplot(data=ARPPU_metrics, ax=axes[2])\n",
    "    axes[2].set_title(\"ARPPU\")"
   ]
  },
  {
   "cell_type": "code",
   "execution_count": 76,
   "metadata": {},
   "outputs": [
    {
     "data": {
      "image/png": "[encoded data removed]",
      "text/plain": [
       "<Figure size 936x216 with 3 Axes>"
      ]
     },
     "metadata": {},
     "output_type": "display_data"
    }
   ],
   "source": [
    "# демонстрация работы функции (в переменную x записан результат работы функции из предыдущего задания)\n",
    "visual(x)"
   ]
  },
  {
   "cell_type": "code",
   "execution_count": null,
   "metadata": {},
   "outputs": [],
   "source": []
  }
 ],
 "metadata": {
  "kernelspec": {
   "display_name": "Python 3",
   "language": "python",
   "name": "python3"
  },
  "language_info": {
   "codemirror_mode": {
    "name": "ipython",
    "version": 3
   },
   "file_extension": ".py",
   "mimetype": "text/x-python",
   "name": "python",
   "nbconvert_exporter": "python",
   "pygments_lexer": "ipython3",
   "version": "3.7.3"
  }
 },
 "nbformat": 4,
 "nbformat_minor": 4
}
